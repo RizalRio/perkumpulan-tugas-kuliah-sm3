{
  "nbformat": 4,
  "nbformat_minor": 0,
  "metadata": {
    "colab": {
      "provenance": [],
      "authorship_tag": "ABX9TyMcjLOWRDwbEC2MTpoZ4k/N",
      "include_colab_link": true
    },
    "kernelspec": {
      "name": "python3",
      "display_name": "Python 3"
    },
    "language_info": {
      "name": "python"
    }
  },
  "cells": [
    {
      "cell_type": "markdown",
      "metadata": {
        "id": "view-in-github",
        "colab_type": "text"
      },
      "source": [
        "<a href=\"https://colab.research.google.com/github/RizalRio/perkumpulan-tugas-kuliah-sm3/blob/main/KomputasiNumerik-GaussSindel.ipynb\" target=\"_parent\"><img src=\"https://colab.research.google.com/assets/colab-badge.svg\" alt=\"Open In Colab\"/></a>"
      ]
    },
    {
      "cell_type": "code",
      "execution_count": null,
      "metadata": {
        "colab": {
          "base_uri": "https://localhost:8080/"
        },
        "id": "9o0Ad8mSR1gB",
        "outputId": "d8f3a999-f336-4784-f8e0-b43ebe9d831e"
      },
      "outputs": [
        {
          "output_type": "stream",
          "name": "stdout",
          "text": [
            "System of equations:\n",
            "[ 10*x1 +  -1*x2 +   2*x3 +   0*x4] = [  6]\n",
            "[ -1*x1 +  11*x2 +  -1*x3 +   3*x4] = [ 25]\n",
            "[  2*x1 +  -1*x2 +  10*x3 +  -1*x4] = [-11]\n",
            "[  0*x1 +   3*x2 +  -1*x3 +   8*x4] = [ 15]\n",
            "Iteration 1: [0. 0. 0. 0.]\n",
            "Iteration 2: [ 0.6         2.32727273 -0.98727273  0.87886364]\n",
            "Iteration 3: [ 1.03018182  2.03693802 -1.0144562   0.98434122]\n",
            "Iteration 4: [ 1.00658504  2.00355502 -1.00252738  0.99835095]\n",
            "Iteration 5: [ 1.00086098  2.00029825 -1.00030728  0.99984975]\n",
            "Iteration 6: [ 1.00009128  2.00002134 -1.00003115  0.9999881 ]\n",
            "Iteration 7: [ 1.00000836  2.00000117 -1.00000275  0.99999922]\n",
            "Iteration 8: [ 1.00000067  2.00000002 -1.00000021  0.99999996]\n",
            "Iteration 9: [ 1.00000004  1.99999999 -1.00000001  1.        ]\n",
            "Iteration 10: [ 1.  2. -1.  1.]\n",
            "Solution: [ 1.  2. -1.  1.]\n",
            "Error: [ 2.06480930e-08 -1.25551054e-08  3.61417563e-11  0.00000000e+00]\n"
          ]
        }
      ],
      "source": [
        "import numpy as np\n",
        "\n",
        "ITERATION_LIMIT = 1000\n",
        "\n",
        "# initialize the matrix\n",
        "A = np.array(\n",
        "    [\n",
        "        [10.0, -1.0, 2.0, 0.0],\n",
        "        [-1.0, 11.0, -1.0, 3.0],\n",
        "        [2.0, -1.0, 10.0, -1.0],\n",
        "        [0.0, 3.0, -1.0, 8.0],\n",
        "    ]\n",
        ")\n",
        "# initialize the RHS vector\n",
        "b = np.array([6.0, 25.0, -11.0, 15.0])\n",
        "\n",
        "print(\"System of equations:\")\n",
        "for i in range(A.shape[0]):\n",
        "    row = [f\"{A[i,j]:3g}*x{j+1}\" for j in range(A.shape[1])]\n",
        "    print(\"[{0}] = [{1:3g}]\".format(\" + \".join(row), b[i]))\n",
        "\n",
        "x = np.zeros_like(b, np.float_)\n",
        "for it_count in range(1, ITERATION_LIMIT):\n",
        "    x_new = np.zeros_like(x, dtype=np.float_)\n",
        "    print(f\"Iteration {it_count}: {x}\")\n",
        "    for i in range(A.shape[0]):\n",
        "        s1 = np.dot(A[i, :i], x_new[:i])\n",
        "        s2 = np.dot(A[i, i + 1 :], x[i + 1 :])\n",
        "        x_new[i] = (b[i] - s1 - s2) / A[i, i]\n",
        "    if np.allclose(x, x_new, rtol=1e-8):\n",
        "        break\n",
        "    x = x_new\n",
        "\n",
        "print(f\"Solution: {x}\")\n",
        "error = np.dot(A, x) - b\n",
        "print(f\"Error: {error}\")"
      ]
    }
  ]
}
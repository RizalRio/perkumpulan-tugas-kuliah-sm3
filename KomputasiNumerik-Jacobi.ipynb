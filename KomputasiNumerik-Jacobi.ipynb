{
  "nbformat": 4,
  "nbformat_minor": 0,
  "metadata": {
    "colab": {
      "provenance": [],
      "authorship_tag": "ABX9TyNvroBdB4pbl1K8/9zpnLQQ",
      "include_colab_link": true
    },
    "kernelspec": {
      "name": "python3",
      "display_name": "Python 3"
    },
    "language_info": {
      "name": "python"
    }
  },
  "cells": [
    {
      "cell_type": "markdown",
      "metadata": {
        "id": "view-in-github",
        "colab_type": "text"
      },
      "source": [
        "<a href=\"https://colab.research.google.com/github/RizalRio/perkumpulan-tugas-kuliah-sm3/blob/main/KomputasiNumerik-Jacobi.ipynb\" target=\"_parent\"><img src=\"https://colab.research.google.com/assets/colab-badge.svg\" alt=\"Open In Colab\"/></a>"
      ]
    },
    {
      "cell_type": "code",
      "execution_count": 1,
      "metadata": {
        "colab": {
          "base_uri": "https://localhost:8080/"
        },
        "id": "ncoTCJ5ZTUXt",
        "outputId": "272359f4-6557-4f6f-b257-6a17c0c226bf"
      },
      "outputs": [
        {
          "output_type": "stream",
          "name": "stdout",
          "text": [
            "System:\n",
            "10.0*x1 + -1.0*x2 + 2.0*x3 + 0.0*x4 = 6.0\n",
            "-1.0*x1 + 11.0*x2 + -1.0*x3 + 3.0*x4 = 25.0\n",
            "2.0*x1 + -1.0*x2 + 10.0*x3 + -1.0*x4 = -11.0\n",
            "0.0*x1 + 3.0*x2 + -1.0*x3 + 8.0*x4 = 15.0\n",
            "\n",
            "Iteration 1: [ 0.6         2.27272727 -1.1         1.875     ]\n",
            "Iteration 2: [ 1.04727273  1.71590909 -0.80522727  0.88522727]\n",
            "Iteration 3: [ 0.93263636  2.05330579 -1.04934091  1.13088068]\n",
            "Iteration 4: [ 1.01519876  1.95369576 -0.96810863  0.97384272]\n",
            "Iteration 5: [ 0.9889913   2.01141473 -1.0102859   1.02135051]\n",
            "Iteration 6: [ 1.00319865  1.99224126 -0.99452174  0.99443374]\n",
            "Iteration 7: [ 0.99812847  2.00230688 -1.00197223  1.00359431]\n",
            "Iteration 8: [ 1.00062513  1.9986703  -0.99903558  0.99888839]\n",
            "Iteration 9: [ 0.99967415  2.00044767 -1.00036916  1.00061919]\n",
            "Iteration 10: [ 1.0001186   1.99976795 -0.99982814  0.99978598]\n",
            "Iteration 11: [ 0.99994242  2.00008477 -1.00006833  1.0001085 ]\n",
            "Iteration 12: [ 1.00002214  1.99995896 -0.99996916  0.99995967]\n",
            "Iteration 13: [ 0.99998973  2.00001582 -1.00001257  1.00001924]\n",
            "Iteration 14: [ 1.00000409  1.99999268 -0.99999444  0.9999925 ]\n",
            "Iteration 15: [ 0.99999816  2.00000292 -1.0000023   1.00000344]\n",
            "Iteration 16: [ 1.00000075  1.99999868 -0.99999899  0.99999862]\n",
            "Iteration 17: [ 0.99999967  2.00000054 -1.00000042  1.00000062]\n",
            "Iteration 18: [ 1.00000014  1.99999976 -0.99999982  0.99999975]\n",
            "Iteration 19: [ 0.99999994  2.0000001  -1.00000008  1.00000011]\n",
            "Iteration 20: [ 1.00000003  1.99999996 -0.99999997  0.99999995]\n",
            "Iteration 21: [ 0.99999999  2.00000002 -1.00000001  1.00000002]\n",
            "Iteration 22: [ 1.          1.99999999 -0.99999999  0.99999999]\n",
            "Iteration 23: [ 1.  2. -1.  1.]\n",
            "Iteration 24: [ 1.  2. -1.  1.]\n",
            "Iteration 25: [ 1.  2. -1.  1.]\n",
            "Iteration 26: [ 1.  2. -1.  1.]\n",
            "Iteration 27: [ 1.  2. -1.  1.]\n",
            "Iteration 28: [ 1.  2. -1.  1.]\n",
            "Solution: \n",
            "[ 1.  2. -1.  1.]\n",
            "Error:\n",
            "[ 3.95796285e-10 -7.29652783e-10  5.13317389e-10 -5.86034332e-10]\n"
          ]
        }
      ],
      "source": [
        "import numpy as np\n",
        "\n",
        "ITERATION_LIMIT = 1000\n",
        "\n",
        "# initialize the matrix\n",
        "A = np.array([[10., -1., 2., 0.],\n",
        "              [-1., 11., -1., 3.],\n",
        "              [2., -1., 10., -1.],\n",
        "              [0.0, 3., -1., 8.]])\n",
        "# initialize the RHS vector\n",
        "b = np.array([6., 25., -11., 15.])\n",
        "\n",
        "# prints the system\n",
        "print(\"System:\")\n",
        "for i in range(A.shape[0]):\n",
        "    row = [f\"{A[i, j]}*x{j + 1}\" for j in range(A.shape[1])]\n",
        "    print(f'{\" + \".join(row)} = {b[i]}')\n",
        "print()\n",
        "\n",
        "x = np.zeros_like(b)\n",
        "for it_count in range(ITERATION_LIMIT):\n",
        "    if it_count != 0:\n",
        "        print(f\"Iteration {it_count}: {x}\")\n",
        "    x_new = np.zeros_like(x)\n",
        "\n",
        "    for i in range(A.shape[0]):\n",
        "        s1 = np.dot(A[i, :i], x[:i])\n",
        "        s2 = np.dot(A[i, i + 1:], x[i + 1:])\n",
        "        x_new[i] = (b[i] - s1 - s2) / A[i, i]\n",
        "        if x_new[i] == x_new[i-1]:\n",
        "          break\n",
        "\n",
        "    if np.allclose(x, x_new, atol=1e-10, rtol=0.):\n",
        "        break\n",
        "\n",
        "    x = x_new\n",
        "\n",
        "print(\"Solution: \")\n",
        "print(x)\n",
        "error = np.dot(A, x) - b\n",
        "print(\"Error:\")\n",
        "print(error)"
      ]
    }
  ]
}